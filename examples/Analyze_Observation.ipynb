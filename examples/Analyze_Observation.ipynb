{
 "cells": [
  {
   "cell_type": "code",
   "execution_count": null,
   "id": "20c04f3e",
   "metadata": {},
   "outputs": [],
   "source": [
    "%matplotlib notebook\n",
    "\n",
    "import numpy as np\n",
    "import matplotlib.pyplot as plt\n",
    "import sys\n",
    "import os\n",
    "\n",
    "# import scinter\n",
    "sys.path.insert(0,'/path/to/Scinter3')\n",
    "import scinter_import\n",
    "import scinter_measurement\n",
    "import scinter_data\n",
    "import scinter_plot\n",
    "\n",
    "plt.style.use('fast')\n",
    "\n",
    "# some useful constants in SI units\n",
    "degrees = np.pi/180.\n",
    "mas = degrees/1000./3600.\n",
    "hour = 3600.\n",
    "year = 365.25*24.*hour\n",
    "au = 149597870700. #m\n",
    "pc = 648000./np.pi*au #m\n",
    "v_c = 299792458.\n",
    "minute = 60.\n",
    "day = 24.*hour\n",
    "mHz = 1.0e-3\n",
    "kHz = 1.0e+3\n",
    "MHz = 1.0e+6\n",
    "GHz = 1.0e+9\n",
    "mus = 1.0e-6\n",
    "sqrtmus = np.sqrt(mus)\n",
    "kms = 1000."
   ]
  },
  {
   "cell_type": "markdown",
   "id": "12d20ff9",
   "metadata": {},
   "source": [
    "## Organizing your scintillation analysis\n",
    "\n",
    "The next cell shows how to save a processed version of an observation such that it serves as a basis for further analysis whose results can be easily found and used in the future.\\\n",
    "Keep in mind that not all functions of Scinter3 work in ipython. Some functions not used here need to be executed in the terminal instead."
   ]
  },
  {
   "cell_type": "code",
   "execution_count": null,
   "id": "a183d23a",
   "metadata": {},
   "outputs": [],
   "source": [
    "path_data = \"/path/to/your/data\"\n",
    "path_results = \"/path/chosen/by/you/for/processed/data/and/results\"\n",
    "\n",
    "obsname = \"label_your_observation\"\n",
    "filename = os.path.join(path_data,\"name_of_your_data_file.npz\")\n",
    "\n",
    "\"\"\"\n",
    "Add this class to scinter_import:\n",
    "\n",
    "class from_npz(scinter_data.intensity):\n",
    "    def __init__(self,data_path):\n",
    "        # - load data\n",
    "        data_npz = np.load(data_path)\n",
    "        self.DS = data_npz[\"DS\"]\n",
    "        self.nu = data_npz[\"nu\"]\n",
    "        self.mjd = data_npz[\"mjd\"]\n",
    "        self.DS = self.DS/np.std(self.DS)\n",
    "        self.t = (self.mjd-self.mjd[0])*day\n",
    "        self.recalculate()\n",
    "\"\"\"\n",
    "\n",
    "DS = scinter_import.from_npz(filename)\n",
    "\n",
    "\"\"\"\n",
    "The next step is to save the data for easy access and an organized structure of the results.\n",
    "This just creates another copy in this case, but the idea is that you change the format\n",
    "of the data and/or crop, downsample, or rescale the data here for later use.\n",
    "\"\"\"\n",
    "\n",
    "# This path will contain all observations of this group, e.g. the same source.\n",
    "storage = scinter_measurement.storage(path_results)\n",
    "# This step creates the directory for the new observation.\n",
    "obs = storage.add_obs(obsname)\n",
    "# This step creates the data and info files for the new observation.\n",
    "obs.log_DS(DS)\n",
    "# Basic information about the observation can be found in computations/logfile.yaml\n",
    "# Optional step to add this observation to a subgroup list.\n",
    "# One observation can belong to multiple lists and by default is already added to the 'all' list.\n",
    "list_tutorial = \"tutorial\"\n",
    "storage.addtolist(list_tutorial,obsname)"
   ]
  },
  {
   "cell_type": "code",
   "execution_count": null,
   "id": "f141a6aa",
   "metadata": {},
   "outputs": [],
   "source": [
    "# Choose the storage of data and analysis products\n",
    "storage = scinter_measurement.storage(\"/mnt/c/Users/RapSp/Desktop/MPIfR/Fundi_tutorial/B1508+55\")\n",
    "\n",
    "# choose an observation within that storage\n",
    "obsname = \"label_of_your_observation\"\n",
    "# name to be used as title in matplotlib; should not contain _\n",
    "plotname = \"name that is readable by matplotlib\"\n",
    "\n",
    "# load the observation\n",
    "obs = scinter_measurement.measurement(storage.data_path,obsname)"
   ]
  },
  {
   "cell_type": "markdown",
   "id": "d65e624a",
   "metadata": {},
   "source": [
    "## The intensity class\n",
    "\n",
    "Accessible data products:\n",
    "- DS  : time vs frequency array of intensity\n",
    "- t   : array of time bins in seconds from beginning of observation\n",
    "- mjd : array of mjd of each time bin\n",
    "- nu  : array of frequency channels in Hz\n",
    "\n",
    "Info computed from above:\n",
    "- N_t  : number of time bins\n",
    "- N_nu : number of frequency channels\n",
    "- dt   : length of single time bin\n",
    "- dnu  : length of single frequency channel\n",
    "- timespan  : duration of whole observation\n",
    "- bandwidth : total bandwidth\n",
    "- nu0  : central frequency\n",
    "- ...\n",
    "\n",
    "Methods (all keywords are optional):\n",
    "- crop(t_min=,t_max=,nu_min=,nu_max=) cuts out subsections of data from physical boundaries\n",
    "- slice(i0_t=,i1_t=,i0_nu=,i1_nu=) cuts out subsections of data from bin numbers\n",
    "- downsample(t_sampling=,nu_sampling=) reduces pixel number by averaging"
   ]
  },
  {
   "cell_type": "code",
   "execution_count": null,
   "id": "e6de9290",
   "metadata": {},
   "outputs": [],
   "source": [
    "# load the dynamic spectrum\n",
    "DS = scinter_data.intensity(obs.data_path)"
   ]
  },
  {
   "cell_type": "markdown",
   "id": "f4622e26",
   "metadata": {},
   "source": [
    "## scinter_plot\n",
    "\n",
    "Collection of functions to shorten calls of matplotlib:\n",
    "- draw_canvas : creates a figure of given size in pixels, updates matplotlib's rcParams, and adjusts its subplots\n",
    "- dynamic_spectrum : adds a pcolormesh to the given axis and provides default axis labels. Supports downsampling only for plotting.\n",
    "- more inbuilt plot types, easy to add more within\n",
    "\n",
    "Can be used independently of other parts of Scinter3 to ease plotting"
   ]
  },
  {
   "cell_type": "code",
   "execution_count": null,
   "id": "c34885c5",
   "metadata": {},
   "outputs": [],
   "source": [
    "figure = scinter_plot.draw_canvas(plot_width = 1000,plot_height = 500, plot_bottom = 0.12, plot_left = 0.12, plot_right = 1.0, plot_wspace = 0.1, plot_top=0.95, plot_hspace = 0.1, textsize=18, labelsize=16)\n",
    "ax = figure.add_subplot(1,1,1)\n",
    "plot = scinter_plot.dynamic_spectrum(DS.t,DS.nu,DS.DS,ax,vmin=0.,vmax=7.,title=plotname,nu_sampling=4)\n",
    "figure.colorbar(plot, ax=ax)\n",
    "figure.savefig(os.path.join(obs.obs_path,\"DynSpec.png\"))"
   ]
  },
  {
   "cell_type": "markdown",
   "id": "4c070cde",
   "metadata": {},
   "source": [
    "## logic of scinter_data\n",
    "\n",
    "Each data tranformation is stored as its own class that includes:\n",
    "- a method to create the data transformation from input data\n",
    "- arrays of the result as well as arrays of physical coordinates\n",
    "- ways to save and load the data\n",
    "\n",
    "In particular, all scinter_data classes except for input data should have these optional keywords:\n",
    "- data_path : path where to store the data\n",
    "- file_name : specific file to be created or loaded within data_path, otherwise default will be used\n",
    "- overwrite : if set to False, computation will only be done if specified file does not exist, default is True"
   ]
  },
  {
   "cell_type": "code",
   "execution_count": null,
   "id": "2955d9b2",
   "metadata": {},
   "outputs": [],
   "source": [
    "# compute secondary spectrum\n",
    "# via FFT, saving the result, or loading it if already computed and overwrite==False\n",
    "SS = scinter_data.SecSpec_FFT(DS,data_path=obs.data_path,overwrite=True)\n",
    "\n",
    "# plot it\n",
    "figure = scinter_plot.draw_canvas(plot_width = 800,plot_height = 600, plot_bottom = 0.1, plot_left = 0.1, plot_wspace = 0.1, plot_hspace = 0.1, textsize=16, labelsize=12)\n",
    "ax = figure.add_subplot(1,1,1)\n",
    "plot = scinter_plot.secondary_spectrum(SS.fD,SS.tau,SS.SS,ax,fD_sampling=1,tau_sampling=8,fD_min=None,fD_max=None,tau_min=None,tau_max=None,vmin=None,vmax=None)\n",
    "figure.colorbar(plot, ax=ax)\n",
    "figure.savefig(os.path.join(obs.obs_path,\"SecSpec_FFT.png\"))"
   ]
  },
  {
   "cell_type": "markdown",
   "id": "ee4bdcf4",
   "metadata": {},
   "source": [
    "## Tracking results\n",
    "\n",
    "`obs.enter_result(key,value)` saves a result in the logfile of the observation. From there, it can later be used to look it up or to use it for further analysis. A result can be read with `obs.results[key]`."
   ]
  },
  {
   "cell_type": "code",
   "execution_count": null,
   "id": "db6b576c",
   "metadata": {},
   "outputs": [],
   "source": [
    "# compute the autocorrelation function\n",
    "ACF = scinter_data.ACF_DS(DS,data_path=obs.data_path,overwrite=False)\n",
    "\n",
    "# fit the scintillation scales\n",
    "nuscint,tscint,modindex,model_ACF,ccorr_t,ccorr_nu,t_model_ACF,nu_model_ACF = ACF.fit2D()\n",
    "\n",
    "# save fit results\n",
    "obs.enter_result('tscint',tscint)\n",
    "obs.enter_result('nuscint',nuscint)\n",
    "\n",
    "# plot diagnostic plot\n",
    "figure = scinter_plot.draw_canvas(plot_width = 800,plot_height = 600, plot_bottom = 0.1, plot_left = 0.05, plot_top=0.9,plot_right=0.9, plot_wspace = 0.1, plot_hspace = 0.1, textsize=16, labelsize=12)\n",
    "scinter_plot.scintscales(ACF.t_shift,ACF.nu_shift,ACF.ACF,ccorr_t,t_model_ACF,ccorr_nu,nu_model_ACF,figure,nu_sampling=1,t_min=-5*tscint/minute,t_max=5*tscint/minute,nu_min=-5*nuscint/MHz,nu_max=5*nuscint/MHz,cmap=\"viridis\",corr_max=1.2*modindex**2)\n",
    "plt.text(0.8, 0.75, \"source name\\n\"+\"{:.0f}\".format(DS.nu0/MHz)+\" MHz\\n$t_{\\\\mathrm{ISS}}=\"+\"{:.1f}\".format(tscint)+\"$ s\\n$\\\\nu_{\\\\mathrm{ISS}}=\"+\"{:.3f}\".format(nuscint/kHz)+\"$ kHz\", transform=plt.gcf().transFigure)\n",
    "figure.savefig(os.path.join(obs.obs_path,\"scintscales.png\"))"
   ]
  },
  {
   "cell_type": "markdown",
   "id": "d7f22505",
   "metadata": {},
   "source": [
    "## Analyzing a series of observations\n",
    "\n",
    "Lists of observation names can be obtained via `storage.obs_lists[name_of_list]`, which is useful to loop over them to apply the same analysis to many observations. Results saved in the logfiles can be retrieved as a numpy array with `storage.get_array(name_of_list,key)`\\\n",
    "Creating an observation with an existing name will not delete the results already saved under this name but only replace the dynamic spectrum!"
   ]
  },
  {
   "cell_type": "code",
   "execution_count": null,
   "id": "838babbd",
   "metadata": {},
   "outputs": [],
   "source": [
    "# import a whole directory of multiple data files\n",
    "data_files = os.listdir(path_data)\n",
    "for filename in data_files:\n",
    "    # create obsname from filename; here omitting some letters\n",
    "    obsname = filename[:3]+filename[9:18]\n",
    "    # copy all data into the storage\n",
    "    filename = os.path.join(path_data,filename)\n",
    "    DS = scinter_import.from_npz(filename)\n",
    "    obs = storage.add_obs(obsname)\n",
    "    obs.log_DS(DS)\n",
    "    storage.addtolist(list_tutorial,obsname)"
   ]
  },
  {
   "cell_type": "code",
   "execution_count": null,
   "id": "620d7a57",
   "metadata": {},
   "outputs": [],
   "source": [
    "obs_list = storage.obs_lists[list_tutorial]\n",
    "\n",
    "# compute scintillation scales for all observations in the list\n",
    "for obsname in obs_list:\n",
    "    obs = scinter_measurement.measurement(storage.data_path,obsname)\n",
    "    DS = scinter_data.intensity(obs.data_path)\n",
    "    ACF = scinter_data.ACF_DS(DS,data_path=obs.data_path,overwrite=False)\n",
    "    nuscint,tscint,modindex,model_ACF,ccorr_t,ccorr_nu,t_model_ACF,nu_model_ACF = ACF.fit2D()\n",
    "    obs.enter_result('tscint',tscint)\n",
    "    obs.enter_result('nuscint',nuscint)"
   ]
  },
  {
   "cell_type": "code",
   "execution_count": null,
   "id": "4b353937",
   "metadata": {},
   "outputs": [],
   "source": [
    "# plot the variation of the scales over time\n",
    "\n",
    "arr_mjd = storage.get_array(list_tutorial,\"mjd0\")\n",
    "arr_nuscint = storage.get_array(list_tutorial,\"nuscint\")\n",
    "arr_tscint = storage.get_array(list_tutorial,\"tscint\")\n",
    "\n",
    "figure = scinter_plot.draw_canvas(plot_width = 800,plot_height = 800, plot_bottom = 0.1, plot_left = 0.1, plot_wspace = 0.1, plot_hspace = 0.1, textsize=16, labelsize=12)\n",
    "ax1 = figure.add_subplot(2,1,1)\n",
    "ax2 = figure.add_subplot(2,1,2)\n",
    "ax1.plot(arr_mjd,arr_nuscint/kHz,marker='o',linestyle='')\n",
    "ax2.plot(arr_mjd,arr_tscint,marker='o',linestyle='')\n",
    "ax2.set_xlabel(\"MJD\")\n",
    "ax1.set_ylabel(r\"$\\nu_{\\rm ISS}$ [kHz]\")\n",
    "ax2.set_ylabel(r\"$t_{\\rm ISS}$ [s]\")\n",
    "figure.savefig(os.path.join(storage.data_path,\"scintscales_{0}.png\".format(list_tutorial)))"
   ]
  }
 ],
 "metadata": {
  "kernelspec": {
   "display_name": "Python 3 (ipykernel)",
   "language": "python",
   "name": "python3"
  },
  "language_info": {
   "codemirror_mode": {
    "name": "ipython",
    "version": 3
   },
   "file_extension": ".py",
   "mimetype": "text/x-python",
   "name": "python",
   "nbconvert_exporter": "python",
   "pygments_lexer": "ipython3",
   "version": "3.10.12"
  }
 },
 "nbformat": 4,
 "nbformat_minor": 5
}
